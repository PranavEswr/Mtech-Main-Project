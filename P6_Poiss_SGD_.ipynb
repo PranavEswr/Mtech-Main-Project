{
  "nbformat": 4,
  "nbformat_minor": 0,
  "metadata": {
    "colab": {
      "name": "P6_Poiss_SGD_",
      "provenance": [],
      "collapsed_sections": []
    },
    "kernelspec": {
      "name": "python3",
      "display_name": "Python 3"
    },
    "accelerator": "GPU"
  },
  "cells": [
    {
      "cell_type": "code",
      "metadata": {
        "id": "u6AUtkyEDUMG",
        "colab": {
          "base_uri": "https://localhost:8080/",
          "height": 34
        },
        "outputId": "ab68232a-4f1d-409e-c29d-7d5aef215e41"
      },
      "source": [
        "from tensorflow.keras.datasets import mnist\n",
        "from tensorflow.keras.layers import Input, Dense, Conv2D, MaxPooling2D, UpSampling2D, Flatten \n",
        "from tensorflow.keras.models import Model\n",
        "from keras.utils import to_categorical\n",
        "import tensorflow.keras as k\n",
        "from keras.utils import to_categorical\n",
        "\n",
        "import numpy as np\n",
        "import matplotlib.pyplot as plt\n",
        "from sklearn.metrics import accuracy_score, precision_score, recall_score, f1_score\n",
        "from sklearn.metrics import confusion_matrix, classification_report"
      ],
      "execution_count": null,
      "outputs": [
        {
          "output_type": "stream",
          "text": [
            "Using TensorFlow backend.\n"
          ],
          "name": "stderr"
        }
      ]
    },
    {
      "cell_type": "code",
      "metadata": {
        "id": "cZIJSNb4Dnix",
        "colab": {
          "base_uri": "https://localhost:8080/",
          "height": 51
        },
        "outputId": "b6e899c1-0589-4f94-a4f0-0826138d8e8e"
      },
      "source": [
        "(x_train, y_train), (x_test, y_test) = mnist.load_data()"
      ],
      "execution_count": null,
      "outputs": [
        {
          "output_type": "stream",
          "text": [
            "Downloading data from https://storage.googleapis.com/tensorflow/tf-keras-datasets/mnist.npz\n",
            "11493376/11490434 [==============================] - 0s 0us/step\n"
          ],
          "name": "stdout"
        }
      ]
    },
    {
      "cell_type": "code",
      "metadata": {
        "id": "5_DCUE_wlpqP"
      },
      "source": [
        "y_actual = y_test"
      ],
      "execution_count": null,
      "outputs": []
    },
    {
      "cell_type": "code",
      "metadata": {
        "id": "9rGXpTLbED3U"
      },
      "source": [
        "x_train = x_train.astype('float32') / 255.\n",
        "x_test = x_test.astype('float32') / 255.\n",
        "x_train = np.reshape(x_train, (len(x_train), 28, 28, 1))\n",
        "x_test = np.reshape(x_test, (len(x_test), 28, 28, 1))\n"
      ],
      "execution_count": null,
      "outputs": []
    },
    {
      "cell_type": "code",
      "metadata": {
        "id": "uhJ9EnSE_ToL"
      },
      "source": [
        "y_train = to_categorical(y_train)\n",
        "y_test = to_categorical(y_test)"
      ],
      "execution_count": null,
      "outputs": []
    },
    {
      "cell_type": "code",
      "metadata": {
        "id": "EjUoLLgDkSne"
      },
      "source": [
        "# print(y_train.shape)\n",
        "# print(x_train.shape)"
      ],
      "execution_count": null,
      "outputs": []
    },
    {
      "cell_type": "code",
      "metadata": {
        "id": "WBhtq7z_EHHc",
        "colab": {
          "base_uri": "https://localhost:8080/",
          "height": 226
        },
        "outputId": "59f1fa27-0dff-4fd9-df0e-bc087a11ab96"
      },
      "source": [
        "plt.figure(figsize=(8, 5))\n",
        "for i in range(1,7):\n",
        "    ax = plt.subplot(3, 3, i)\n",
        "    plt.imshow(x_test[i].reshape(28, 28), cmap=\"binary\")\n",
        "plt.show()"
      ],
      "execution_count": null,
      "outputs": [
        {
          "output_type": "display_data",
          "data": {
            "image/png": "[encoded data removed]",
            "text/plain": [
              "<Figure size 576x360 with 6 Axes>"
            ]
          },
          "metadata": {
            "tags": [],
            "needs_background": "light"
          }
        }
      ]
    },
    {
      "cell_type": "code",
      "metadata": {
        "id": "AC1DPIzsEKoU"
      },
      "source": [
        "#adding some noise\n",
        "noise_factor = 0.5\n",
        "pad = 5\n",
        "\n",
        "PEAK = 3 #Simulate a low-light noisy image (if PEAK = 1, it will be really noisy)\n",
        "x_train_noisy = np.random.poisson(x_train * PEAK) / PEAK * 255\n",
        "x_test_noisy = np.random.poisson(x_test * PEAK) / PEAK * 255\n",
        "\n",
        "x_train_noisy = np.clip(x_train_noisy, 0., 1.)\n",
        "x_test_noisy = np.clip(x_test_noisy, 0., 1.)\n"
      ],
      "execution_count": null,
      "outputs": []
    },
    {
      "cell_type": "code",
      "metadata": {
        "id": "pU4g_38bEN40",
        "colab": {
          "base_uri": "https://localhost:8080/",
          "height": 226
        },
        "outputId": "e90b9f6a-5f2f-436a-c86d-47c1a7a31b7b"
      },
      "source": [
        "#displaying images with noise\n",
        "plt.figure(figsize=(8, 5))\n",
        "for i in range(1,7):\n",
        "    ax = plt.subplot(3, 3, i)\n",
        "    plt.imshow(x_test_noisy[i].reshape(28, 28), cmap=\"binary\")\n",
        "plt.show()"
      ],
      "execution_count": null,
      "outputs": [
        {
          "output_type": "display_data",
          "data": {
            "image/png": "[encoded data removed]",
            "text/plain": [
              "<Figure size 576x360 with 6 Axes>"
            ]
          },
          "metadata": {
            "tags": [],
            "needs_background": "light"
          }
        }
      ]
    },
    {
      "cell_type": "code",
      "metadata": {
        "id": "o0VTg60LEWH8"
      },
      "source": [
        "model = k.models.Sequential()\n",
        "\n",
        "model.add(Conv2D(32, (3,3), activation='relu', padding='same', input_shape=(28,28,1)))\n",
        "model.add(MaxPooling2D((2,2), padding='same'))\n",
        "\n",
        "model.add(Conv2D(64, (3,3), activation='relu', padding='same'))\n",
        "model.add(MaxPooling2D((2,2), padding='same'))\n",
        "          \n",
        "model.add(Conv2D(64, (3,3), activation='relu', padding='same'))\n",
        "model.add(UpSampling2D((2,2)))\n",
        "\n",
        "model.add(Conv2D(32, (3,3), activation='relu', padding='same'))\n",
        "model.add(UpSampling2D((2,2)))\n",
        "\n",
        "model.add(Conv2D(1,(3,3), activation='sigmoid', padding='same'))\n",
        "model.add(Flatten())\n",
        "model.add(Dense(100, activation='relu', kernel_initializer='he_uniform'))\n",
        "model.add(Dense(10, activation='softmax'))"
      ],
      "execution_count": null,
      "outputs": []
    },
    {
      "cell_type": "code",
      "metadata": {
        "id": "1w8Wh1BGEdX5",
        "colab": {
          "base_uri": "https://localhost:8080/",
          "height": 561
        },
        "outputId": "8f062631-d84a-47a9-8ad5-d25e3008ea7b"
      },
      "source": [
        "model.compile(optimizer='sgd',\n",
        "             loss='categorical_crossentropy',\n",
        "              metrics=['accuracy'])\n",
        "model.summary()"
      ],
      "execution_count": null,
      "outputs": [
        {
          "output_type": "stream",
          "text": [
            "Model: \"sequential\"\n",
            "_________________________________________________________________\n",
            "Layer (type)                 Output Shape              Param #   \n",
            "=================================================================\n",
            "conv2d (Conv2D)              (None, 28, 28, 32)        320       \n",
            "_________________________________________________________________\n",
            "max_pooling2d (MaxPooling2D) (None, 14, 14, 32)        0         \n",
            "_________________________________________________________________\n",
            "conv2d_1 (Conv2D)            (None, 14, 14, 64)        18496     \n",
            "_________________________________________________________________\n",
            "max_pooling2d_1 (MaxPooling2 (None, 7, 7, 64)          0         \n",
            "_________________________________________________________________\n",
            "conv2d_2 (Conv2D)            (None, 7, 7, 64)          36928     \n",
            "_________________________________________________________________\n",
            "up_sampling2d (UpSampling2D) (None, 14, 14, 64)        0         \n",
            "_________________________________________________________________\n",
            "conv2d_3 (Conv2D)            (None, 14, 14, 32)        18464     \n",
            "_________________________________________________________________\n",
            "up_sampling2d_1 (UpSampling2 (None, 28, 28, 32)        0         \n",
            "_________________________________________________________________\n",
            "conv2d_4 (Conv2D)            (None, 28, 28, 1)         289       \n",
            "_________________________________________________________________\n",
            "flatten (Flatten)            (None, 784)               0         \n",
            "_________________________________________________________________\n",
            "dense (Dense)                (None, 100)               78500     \n",
            "_________________________________________________________________\n",
            "dense_1 (Dense)              (None, 10)                1010      \n",
            "=================================================================\n",
            "Total params: 154,007\n",
            "Trainable params: 154,007\n",
            "Non-trainable params: 0\n",
            "_________________________________________________________________\n"
          ],
          "name": "stdout"
        }
      ]
    },
    {
      "cell_type": "code",
      "metadata": {
        "id": "4wCx-m9-EqEi",
        "colab": {
          "base_uri": "https://localhost:8080/",
          "height": 377
        },
        "outputId": "53693349-62d7-46b4-9ee1-1952cc657b55"
      },
      "source": [
        "history = model.fit(x_train_noisy, y_train,\n",
        "                    steps_per_epoch=1000,\n",
        "                    epochs=10,\n",
        "                    shuffle=True,\n",
        "                    validation_data=(x_test_noisy, y_test),\n",
        "                    validation_steps=20)"
      ],
      "execution_count": null,
      "outputs": [
        {
          "output_type": "stream",
          "text": [
            "Epoch 1/10\n",
            "1000/1000 [==============================] - 10s 10ms/step - loss: 1.5863 - accuracy: 0.4505 - val_loss: 0.4848 - val_accuracy: 0.8645\n",
            "Epoch 2/10\n",
            "1000/1000 [==============================] - 10s 10ms/step - loss: 0.3591 - accuracy: 0.8929 - val_loss: 0.2574 - val_accuracy: 0.9206\n",
            "Epoch 3/10\n",
            "1000/1000 [==============================] - 10s 10ms/step - loss: 0.2345 - accuracy: 0.9294 - val_loss: 0.1909 - val_accuracy: 0.9408\n",
            "Epoch 4/10\n",
            "1000/1000 [==============================] - 10s 10ms/step - loss: 0.1753 - accuracy: 0.9473 - val_loss: 0.1366 - val_accuracy: 0.9600\n",
            "Epoch 5/10\n",
            "1000/1000 [==============================] - 10s 10ms/step - loss: 0.1431 - accuracy: 0.9574 - val_loss: 0.1169 - val_accuracy: 0.9637\n",
            "Epoch 6/10\n",
            "1000/1000 [==============================] - 10s 10ms/step - loss: 0.1233 - accuracy: 0.9624 - val_loss: 0.0964 - val_accuracy: 0.9696\n",
            "Epoch 7/10\n",
            "1000/1000 [==============================] - 10s 10ms/step - loss: 0.1103 - accuracy: 0.9664 - val_loss: 0.0956 - val_accuracy: 0.9690\n",
            "Epoch 8/10\n",
            "1000/1000 [==============================] - 10s 10ms/step - loss: 0.1012 - accuracy: 0.9689 - val_loss: 0.0839 - val_accuracy: 0.9725\n",
            "Epoch 9/10\n",
            "1000/1000 [==============================] - 10s 10ms/step - loss: 0.0932 - accuracy: 0.9712 - val_loss: 0.0809 - val_accuracy: 0.9743\n",
            "Epoch 10/10\n",
            "1000/1000 [==============================] - 10s 10ms/step - loss: 0.0867 - accuracy: 0.9737 - val_loss: 0.0705 - val_accuracy: 0.9767\n"
          ],
          "name": "stdout"
        }
      ]
    },
    {
      "cell_type": "code",
      "metadata": {
        "id": "a3wZv56bE29A",
        "colab": {
          "base_uri": "https://localhost:8080/",
          "height": 71
        },
        "outputId": "9a1bdbf5-f9a7-4def-d2b7-66f836f73f3f"
      },
      "source": [
        "accuracy = model.evaluate(x_test_noisy, y_test)\n",
        "accuracy"
      ],
      "execution_count": null,
      "outputs": [
        {
          "output_type": "stream",
          "text": [
            "313/313 [==============================] - 1s 5ms/step - loss: 0.0705 - accuracy: 0.9767\n"
          ],
          "name": "stdout"
        },
        {
          "output_type": "execute_result",
          "data": {
            "text/plain": [
              "[0.07051023840904236, 0.9767000079154968]"
            ]
          },
          "metadata": {
            "tags": []
          },
          "execution_count": 13
        }
      ]
    },
    {
      "cell_type": "code",
      "metadata": {
        "id": "CNbJfStjCdFr"
      },
      "source": [
        "# no_noise_img = model.predict(x_test_noisy)"
      ],
      "execution_count": null,
      "outputs": []
    },
    {
      "cell_type": "code",
      "metadata": {
        "id": "3OsGveldETkG",
        "colab": {
          "base_uri": "https://localhost:8080/",
          "height": 312
        },
        "outputId": "e8db12c3-e7d0-442a-8be9-5f2fff306cfb"
      },
      "source": [
        "print(history.history.keys())\n",
        "# summarize history for accuracy\n",
        "plt.plot(history.history['accuracy'])\n",
        "plt.plot(history.history['val_accuracy'])\n",
        "plt.title('Model Accuracy : SGD Optimizer-Poisson Noise')\n",
        "plt.ylabel('accuracy')\n",
        "plt.xlabel('epoch')\n",
        "plt.legend(['train', 'test'], loc='lower right')\n",
        "plt.show()"
      ],
      "execution_count": null,
      "outputs": [
        {
          "output_type": "stream",
          "text": [
            "dict_keys(['loss', 'accuracy', 'val_loss', 'val_accuracy'])\n"
          ],
          "name": "stdout"
        },
        {
          "output_type": "display_data",
          "data": {
            "image/png": "[encoded data removed]",
            "text/plain": [
              "<Figure size 432x288 with 1 Axes>"
            ]
          },
          "metadata": {
            "tags": [],
            "needs_background": "light"
          }
        }
      ]
    },
    {
      "cell_type": "code",
      "metadata": {
        "id": "0udkkHjqEYTz",
        "colab": {
          "base_uri": "https://localhost:8080/",
          "height": 295
        },
        "outputId": "1040bb73-24d2-43ea-c6e9-ada4fa455cf7"
      },
      "source": [
        "# summarize history for loss\n",
        "plt.plot(history.history['loss'])\n",
        "plt.plot(history.history['val_loss'])\n",
        "plt.title('Model Loss : SGD Optimizer-Poisson Noise')\n",
        "plt.ylabel('loss')\n",
        "plt.xlabel('epoch')\n",
        "plt.legend(['train', 'test'], loc='upper right')\n",
        "plt.show()"
      ],
      "execution_count": null,
      "outputs": [
        {
          "output_type": "display_data",
          "data": {
            "image/png": "[encoded data removed]",
            "text/plain": [
              "<Figure size 432x288 with 1 Axes>"
            ]
          },
          "metadata": {
            "tags": [],
            "needs_background": "light"
          }
        }
      ]
    },
    {
      "cell_type": "code",
      "metadata": {
        "id": "DMKxuS-WEfyL",
        "colab": {
          "base_uri": "https://localhost:8080/",
          "height": 105
        },
        "outputId": "263c7ee9-1e11-4ef7-ef33-fbc175d42ec5"
      },
      "source": [
        "prediction = model.predict_classes(x_test_noisy)\n",
        "prediction"
      ],
      "execution_count": null,
      "outputs": [
        {
          "output_type": "stream",
          "text": [
            "WARNING:tensorflow:From <ipython-input-17-8409bb903b14>:1: Sequential.predict_classes (from tensorflow.python.keras.engine.sequential) is deprecated and will be removed after 2021-01-01.\n",
            "Instructions for updating:\n",
            "Please use instead:* `np.argmax(model.predict(x), axis=-1)`,   if your model does multi-class classification   (e.g. if it uses a `softmax` last-layer activation).* `(model.predict(x) > 0.5).astype(\"int32\")`,   if your model does binary classification   (e.g. if it uses a `sigmoid` last-layer activation).\n"
          ],
          "name": "stdout"
        },
        {
          "output_type": "execute_result",
          "data": {
            "text/plain": [
              "array([7, 2, 1, ..., 4, 5, 6])"
            ]
          },
          "metadata": {
            "tags": []
          },
          "execution_count": 17
        }
      ]
    },
    {
      "cell_type": "code",
      "metadata": {
        "id": "GSp4xuFIEmaB",
        "colab": {
          "base_uri": "https://localhost:8080/",
          "height": 187
        },
        "outputId": "83e9e6f6-7607-4359-da1e-5712bd6afdd8"
      },
      "source": [
        "cm = confusion_matrix(y_actual, prediction)\n",
        "cm"
      ],
      "execution_count": null,
      "outputs": [
        {
          "output_type": "execute_result",
          "data": {
            "text/plain": [
              "array([[ 962,    0,    4,    0,    0,    0,    7,    1,    4,    2],\n",
              "       [   0, 1124,    2,    4,    0,    0,    2,    0,    3,    0],\n",
              "       [   5,    1, 1010,    5,    1,    0,    0,    5,    5,    0],\n",
              "       [   0,    0,    3,  990,    0,    6,    0,    3,    6,    2],\n",
              "       [   0,    0,    2,    0,  955,    0,    6,    3,    1,   15],\n",
              "       [   2,    0,    0,    8,    0,  875,    4,    1,    2,    0],\n",
              "       [   3,    3,    1,    0,    3,    2,  944,    0,    2,    0],\n",
              "       [   0,    5,    8,    3,    1,    2,    1,  993,    2,   13],\n",
              "       [   3,    0,    7,    6,    1,    4,    4,    2,  938,    9],\n",
              "       [   3,    4,    0,    7,    6,    4,    1,    4,    4,  976]])"
            ]
          },
          "metadata": {
            "tags": []
          },
          "execution_count": 18
        }
      ]
    },
    {
      "cell_type": "code",
      "metadata": {
        "id": "pxU5bDTKr7WO"
      },
      "source": [
        "# import seaborn as sns\n",
        "# plt.figure(figsize = (10,7))\n",
        "# sns.heatmap(cm, annot=True)"
      ],
      "execution_count": null,
      "outputs": []
    },
    {
      "cell_type": "code",
      "metadata": {
        "id": "lZORroj0r-px",
        "colab": {
          "base_uri": "https://localhost:8080/",
          "height": 34
        },
        "outputId": "cda2987f-4901-4cf6-c95c-84f036a1aeeb"
      },
      "source": [
        "print(\"accuracy_score : \",accuracy_score(y_actual, prediction))"
      ],
      "execution_count": null,
      "outputs": [
        {
          "output_type": "stream",
          "text": [
            "accuracy_score :  0.9767\n"
          ],
          "name": "stdout"
        }
      ]
    },
    {
      "cell_type": "code",
      "metadata": {
        "id": "R88bBIftsF4S"
      },
      "source": [
        "def plot_confusion_matrix(cm,classes, \n",
        "                          normalize = False,\n",
        "                          title = 'Confusion Matrix',\n",
        "                          cmap = plt.cm.Blues):\n",
        "    plt.imshow(cm,interpolation = 'nearest', cmap = cmap)\n",
        "    plt.title(title)\n",
        "    plt.colorbar()\n",
        "    tick_marks = np.arange(len(classes))\n",
        "    plt.xticks(tick_marks,  classes, rotation = 45)\n",
        "    plt.yticks(tick_marks,  classes)\n",
        "    \n",
        "    if normalize:\n",
        "        cm = c.astype('float')/cm.sum(axis=1)[:,np.newaxis]\n",
        "        print('ncm')\n",
        "    else:\n",
        "        print('cm')\n",
        "    \n",
        "    print(cm)\n",
        "    \n",
        "    thresh = cm.max()/2.\n",
        "    for i,j in itertools.product(range(cm.shape[0]),range(cm.shape[1])):\n",
        "        plt.text(j,i,cm[i,j], horizontalalignment = \"center\",\n",
        "        color = \"white\" if cm[i,j] > thresh else \"black\")\n",
        "    \n",
        "    plt.tight_layout()\n",
        "    plt.ylabel('Actual')\n",
        "    plt.xlabel('Predicted')"
      ],
      "execution_count": null,
      "outputs": []
    },
    {
      "cell_type": "code",
      "metadata": {
        "id": "iOrIeg01sSnZ",
        "colab": {
          "base_uri": "https://localhost:8080/",
          "height": 498
        },
        "outputId": "d1f30999-1ec9-44aa-ce5e-742187e488d8"
      },
      "source": [
        "%matplotlib inline\n",
        "import itertools\n",
        "cm_plot_labels = ['0', '1', '2','3', '4', '5','6','7', '8', '9']\n",
        "plot_confusion_matrix(cm,cm_plot_labels,title = 'Confusion Matrix - SGD Optimizer- Poisson Noise')"
      ],
      "execution_count": null,
      "outputs": [
        {
          "output_type": "stream",
          "text": [
            "cm\n",
            "[[ 962    0    4    0    0    0    7    1    4    2]\n",
            " [   0 1124    2    4    0    0    2    0    3    0]\n",
            " [   5    1 1010    5    1    0    0    5    5    0]\n",
            " [   0    0    3  990    0    6    0    3    6    2]\n",
            " [   0    0    2    0  955    0    6    3    1   15]\n",
            " [   2    0    0    8    0  875    4    1    2    0]\n",
            " [   3    3    1    0    3    2  944    0    2    0]\n",
            " [   0    5    8    3    1    2    1  993    2   13]\n",
            " [   3    0    7    6    1    4    4    2  938    9]\n",
            " [   3    4    0    7    6    4    1    4    4  976]]\n"
          ],
          "name": "stdout"
        },
        {
          "output_type": "display_data",
          "data": {
            "image/png": "[encoded data removed]",
            "text/plain": [
              "<Figure size 432x288 with 2 Axes>"
            ]
          },
          "metadata": {
            "tags": [],
            "needs_background": "light"
          }
        }
      ]
    },
    {
      "cell_type": "code",
      "metadata": {
        "id": "qVqwdK88sXSo",
        "colab": {
          "base_uri": "https://localhost:8080/",
          "height": 306
        },
        "outputId": "c8599162-e09b-48f0-e8d2-f4cc2efa88a9"
      },
      "source": [
        "from sklearn.metrics import classification_report\n",
        "target_names = ['0', '1', '2','3', '4', '5','6','7', '8', '9']\n",
        "print(classification_report(y_actual, prediction, target_names=target_names))    "
      ],
      "execution_count": null,
      "outputs": [
        {
          "output_type": "stream",
          "text": [
            "              precision    recall  f1-score   support\n",
            "\n",
            "           0       0.98      0.98      0.98       980\n",
            "           1       0.99      0.99      0.99      1135\n",
            "           2       0.97      0.98      0.98      1032\n",
            "           3       0.97      0.98      0.97      1010\n",
            "           4       0.99      0.97      0.98       982\n",
            "           5       0.98      0.98      0.98       892\n",
            "           6       0.97      0.99      0.98       958\n",
            "           7       0.98      0.97      0.97      1028\n",
            "           8       0.97      0.96      0.97       974\n",
            "           9       0.96      0.97      0.96      1009\n",
            "\n",
            "    accuracy                           0.98     10000\n",
            "   macro avg       0.98      0.98      0.98     10000\n",
            "weighted avg       0.98      0.98      0.98     10000\n",
            "\n"
          ],
          "name": "stdout"
        }
      ]
    },
    {
      "cell_type": "code",
      "metadata": {
        "id": "8lqGeFGzWBiU"
      },
      "source": [
        ""
      ],
      "execution_count": null,
      "outputs": []
    }
  ]
}